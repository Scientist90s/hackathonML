{
  "cells": [
    {
      "cell_type": "code",
      "execution_count": 1,
      "metadata": {
        "id": "t786PZdgbTjk"
      },
      "outputs": [],
      "source": [
        "# Run this to ensure TensorFlow 2.x is used\n",
        "try:\n",
        "  # %tensorflow_version only exists in Colab.\n",
        "  %tensorflow_version 2.x\n",
        "except Exception:\n",
        "  pass"
      ]
    },
    {
      "cell_type": "code",
      "execution_count": 25,
      "metadata": {
        "id": "-_p7-YtjbVu6"
      },
      "outputs": [],
      "source": [
        "# Import required libraries to create the model\n",
        "import json\n",
        "import tensorflow as tf\n",
        "from tensorflow.keras.preprocessing.text import Tokenizer\n",
        "from tensorflow.keras.preprocessing.sequence import pad_sequences\n",
        "\n",
        "# Import required libraries to load saved model\n",
        "from tensorflow.keras.models import load_model"
      ]
    },
    {
      "cell_type": "code",
      "execution_count": 3,
      "metadata": {
        "id": "8ktrd5AtbaG1"
      },
      "outputs": [],
      "source": [
        "# Setting parameters for Tokenization and Padding process\n",
        "vocab_size = 10000\n",
        "embedding_dim = 16\n",
        "max_length = 30\n",
        "trunc_type='post'\n",
        "padding_type='post'\n",
        "oov_tok = \"<OOV>\""
      ]
    },
    {
      "cell_type": "code",
      "execution_count": 4,
      "metadata": {
        "id": "xo5WZ-VUbhoc"
      },
      "outputs": [],
      "source": [
        "# Loading data from json File\n",
        "with open(\"/tmp/cleaned_data_en_4file.json\", 'r') as f:\n",
        "    datastore = json.load(f)\n",
        "\n",
        "sentences = []\n",
        "labels = []\n",
        "\n",
        "# Creating data array\n",
        "for item in datastore:\n",
        "    sentences.append(item['text'])\n",
        "    labels.append(item['viral'])"
      ]
    },
    {
      "cell_type": "code",
      "execution_count": 1,
      "metadata": {
        "colab": {
          "base_uri": "https://localhost:8080/"
        },
        "id": "8SRmDR11hHhL",
        "outputId": "78358163-3320-4391-e1fe-578cc6eb9f14"
      },
      "outputs": [
        {
          "ename": "NameError",
          "evalue": "name 'sentences' is not defined",
          "output_type": "error",
          "traceback": [
            "\u001b[1;31m---------------------------------------------------------------------------\u001b[0m",
            "\u001b[1;31mNameError\u001b[0m                                 Traceback (most recent call last)",
            "\u001b[1;32mc:\\Yash\\HackathonML\\scripts\\final_code.ipynb Cell 5'\u001b[0m in \u001b[0;36m<cell line: 1>\u001b[1;34m()\u001b[0m\n\u001b[1;32m----> <a href='vscode-notebook-cell:/c%3A/Yash/HackathonML/scripts/final_code.ipynb#ch0000004?line=0'>1</a>\u001b[0m \u001b[39mprint\u001b[39m(\u001b[39m\"\u001b[39m\u001b[39msentences: \u001b[39m\u001b[39m\"\u001b[39m, \u001b[39mlen\u001b[39m(sentences))\n\u001b[0;32m      <a href='vscode-notebook-cell:/c%3A/Yash/HackathonML/scripts/final_code.ipynb#ch0000004?line=1'>2</a>\u001b[0m \u001b[39mprint\u001b[39m(\u001b[39m\"\u001b[39m\u001b[39mlabels\u001b[39m\u001b[39m\"\u001b[39m, labels[\u001b[39m1\u001b[39m:\u001b[39m10\u001b[39m])\n",
            "\u001b[1;31mNameError\u001b[0m: name 'sentences' is not defined"
          ]
        }
      ],
      "source": [
        "print(\"sentences: \", len(sentences))\n",
        "print(\"labels\", labels[1:10])"
      ]
    },
    {
      "cell_type": "code",
      "execution_count": 6,
      "metadata": {
        "id": "Ez105OZTbu3b"
      },
      "outputs": [],
      "source": [
        "# Splitting Train & Test data in 80:20 ratio\n",
        "training_size = 136055\n",
        "\n",
        "training_sentences = sentences[0:training_size]\n",
        "testing_sentences = sentences[training_size:]\n",
        "training_labels = labels[0:training_size]\n",
        "testing_labels = labels[training_size:]"
      ]
    },
    {
      "cell_type": "code",
      "execution_count": 7,
      "metadata": {
        "id": "blE_46ANbxWi"
      },
      "outputs": [],
      "source": [
        "# Tokenizing Training Sentences\n",
        "tokenizer = Tokenizer(num_words=vocab_size, oov_token=oov_tok)\n",
        "tokenizer.fit_on_texts(training_sentences)\n",
        "\n",
        "word_index = tokenizer.word_index\n",
        "\n",
        "training_sequences = tokenizer.texts_to_sequences(training_sentences)\n",
        "# Padding training sentences\n",
        "training_padded = pad_sequences(training_sequences, maxlen=max_length, padding=padding_type, truncating=trunc_type)\n",
        "\n",
        "# Tokenizing Test Sentences according to Training Data & padding it\n",
        "testing_sequences = tokenizer.texts_to_sequences(testing_sentences)\n",
        "testing_padded = pad_sequences(testing_sequences, maxlen=max_length, padding=padding_type, truncating=trunc_type)"
      ]
    },
    {
      "cell_type": "code",
      "execution_count": 8,
      "metadata": {
        "id": "giwhZ9Vrbzul"
      },
      "outputs": [],
      "source": [
        "# Converting Data to Numpy Array.\n",
        "import numpy as np\n",
        "training_padded = np.array(training_padded)\n",
        "training_labels = np.array(training_labels)\n",
        "testing_padded = np.array(testing_padded)\n",
        "testing_labels = np.array(testing_labels)"
      ]
    },
    {
      "cell_type": "code",
      "execution_count": 9,
      "metadata": {
        "id": "WpeDSqrrb3NF"
      },
      "outputs": [],
      "source": [
        "# Creating Model\n",
        "model = tf.keras.Sequential([\n",
        "    tf.keras.layers.Embedding(vocab_size, embedding_dim, input_length=max_length),\n",
        "    # tf.keras.layers.Conv1D(64, 5, activation='relu'),\n",
        "    # tf.keras.layers.GlobalAveragePooling1D(),\n",
        "    # tf.keras.layers.Dense(24, activation='relu'),\n",
        "    # tf.keras.layers.Dense(1, activation='sigmoid')\n",
        "    tf.keras.layers.Bidirectional(tf.keras.layers.LSTM(64, return_sequences=True)),\n",
        "    tf.keras.layers.Bidirectional(tf.keras.layers.LSTM(32)),\n",
        "    tf.keras.layers.Dense(64, activation='relu'),\n",
        "    tf.keras.layers.Dense(1, activation='sigmoid')\n",
        "])\n",
        "\n",
        "# Setting hyperparameter  \n",
        "sgd_optimizer = tf.keras.optimizers.SGD(learning_rate=0.001)\n",
        "model.compile(loss='binary_crossentropy',optimizer=sgd_optimizer,metrics=['accuracy'])"
      ]
    },
    {
      "cell_type": "code",
      "execution_count": 10,
      "metadata": {
        "colab": {
          "base_uri": "https://localhost:8080/"
        },
        "id": "yEFp0XMSb7cp",
        "outputId": "774d12ef-fda7-4120-dbad-4e6436564c6e"
      },
      "outputs": [
        {
          "name": "stdout",
          "output_type": "stream",
          "text": [
            "Model: \"sequential\"\n",
            "_________________________________________________________________\n",
            " Layer (type)                Output Shape              Param #   \n",
            "=================================================================\n",
            " embedding (Embedding)       (None, 30, 16)            160000    \n",
            "                                                                 \n",
            " bidirectional (Bidirectiona  (None, 30, 128)          41472     \n",
            " l)                                                              \n",
            "                                                                 \n",
            " bidirectional_1 (Bidirectio  (None, 64)               41216     \n",
            " nal)                                                            \n",
            "                                                                 \n",
            " dense (Dense)               (None, 64)                4160      \n",
            "                                                                 \n",
            " dense_1 (Dense)             (None, 1)                 65        \n",
            "                                                                 \n",
            "=================================================================\n",
            "Total params: 246,913\n",
            "Trainable params: 246,913\n",
            "Non-trainable params: 0\n",
            "_________________________________________________________________\n"
          ]
        }
      ],
      "source": [
        "model.summary()"
      ]
    },
    {
      "cell_type": "code",
      "execution_count": 11,
      "metadata": {
        "colab": {
          "base_uri": "https://localhost:8080/"
        },
        "id": "YrXnjJudchXB",
        "outputId": "1784b902-600a-4bd1-d09e-dee62acc1579"
      },
      "outputs": [
        {
          "name": "stdout",
          "output_type": "stream",
          "text": [
            "Epoch 1/30\n",
            "4252/4252 - 244s - loss: 0.5810 - accuracy: 0.7494 - val_loss: 0.5630 - val_accuracy: 0.7481 - 244s/epoch - 57ms/step\n",
            "Epoch 2/30\n",
            "4252/4252 - 225s - loss: 0.5611 - accuracy: 0.7496 - val_loss: 0.5620 - val_accuracy: 0.7481 - 225s/epoch - 53ms/step\n",
            "Epoch 3/30\n",
            "4252/4252 - 223s - loss: 0.5600 - accuracy: 0.7496 - val_loss: 0.5605 - val_accuracy: 0.7481 - 223s/epoch - 53ms/step\n",
            "Epoch 4/30\n",
            "4252/4252 - 224s - loss: 0.5581 - accuracy: 0.7496 - val_loss: 0.5578 - val_accuracy: 0.7481 - 224s/epoch - 53ms/step\n",
            "Epoch 5/30\n",
            "4252/4252 - 226s - loss: 0.5542 - accuracy: 0.7496 - val_loss: 0.5513 - val_accuracy: 0.7481 - 226s/epoch - 53ms/step\n",
            "Epoch 6/30\n",
            "4252/4252 - 224s - loss: 0.5429 - accuracy: 0.7496 - val_loss: 0.5291 - val_accuracy: 0.7481 - 224s/epoch - 53ms/step\n",
            "Epoch 7/30\n",
            "4252/4252 - 222s - loss: 0.5001 - accuracy: 0.7496 - val_loss: 0.4494 - val_accuracy: 0.7481 - 222s/epoch - 52ms/step\n",
            "Epoch 8/30\n",
            "4252/4252 - 223s - loss: 0.3927 - accuracy: 0.8436 - val_loss: 0.2583 - val_accuracy: 0.9488 - 223s/epoch - 53ms/step\n",
            "Epoch 9/30\n",
            "4252/4252 - 223s - loss: 0.1747 - accuracy: 0.9546 - val_loss: 0.0908 - val_accuracy: 0.9848 - 223s/epoch - 52ms/step\n",
            "Epoch 10/30\n",
            "4252/4252 - 224s - loss: 0.1154 - accuracy: 0.9748 - val_loss: 0.0665 - val_accuracy: 0.9904 - 224s/epoch - 53ms/step\n",
            "Epoch 11/30\n",
            "4252/4252 - 226s - loss: 0.1061 - accuracy: 0.9768 - val_loss: 0.0617 - val_accuracy: 0.9905 - 226s/epoch - 53ms/step\n",
            "Epoch 12/30\n",
            "4252/4252 - 225s - loss: 0.1006 - accuracy: 0.9773 - val_loss: 0.0565 - val_accuracy: 0.9905 - 225s/epoch - 53ms/step\n",
            "Epoch 13/30\n",
            "4252/4252 - 229s - loss: 0.0926 - accuracy: 0.9783 - val_loss: 0.0507 - val_accuracy: 0.9912 - 229s/epoch - 54ms/step\n",
            "Epoch 14/30\n",
            "4252/4252 - 223s - loss: 0.0852 - accuracy: 0.9785 - val_loss: 0.0829 - val_accuracy: 0.9911 - 223s/epoch - 52ms/step\n",
            "Epoch 15/30\n",
            "4252/4252 - 228s - loss: 0.0780 - accuracy: 0.9801 - val_loss: 0.0403 - val_accuracy: 0.9936 - 228s/epoch - 54ms/step\n",
            "Epoch 16/30\n",
            "4252/4252 - 235s - loss: 0.0710 - accuracy: 0.9808 - val_loss: 0.0340 - val_accuracy: 0.9938 - 235s/epoch - 55ms/step\n",
            "Epoch 17/30\n",
            "4252/4252 - 231s - loss: 0.0644 - accuracy: 0.9819 - val_loss: 0.0269 - val_accuracy: 0.9940 - 231s/epoch - 54ms/step\n",
            "Epoch 18/30\n",
            "4252/4252 - 228s - loss: 0.0573 - accuracy: 0.9843 - val_loss: 0.0236 - val_accuracy: 0.9974 - 228s/epoch - 54ms/step\n",
            "Epoch 19/30\n",
            "4252/4252 - 226s - loss: 0.0529 - accuracy: 0.9859 - val_loss: 0.0241 - val_accuracy: 0.9973 - 226s/epoch - 53ms/step\n",
            "Epoch 20/30\n",
            "4252/4252 - 227s - loss: 0.0506 - accuracy: 0.9865 - val_loss: 0.0199 - val_accuracy: 0.9973 - 227s/epoch - 53ms/step\n",
            "Epoch 21/30\n",
            "4252/4252 - 225s - loss: 0.0490 - accuracy: 0.9869 - val_loss: 0.0215 - val_accuracy: 0.9974 - 225s/epoch - 53ms/step\n",
            "Epoch 22/30\n",
            "4252/4252 - 225s - loss: 0.0478 - accuracy: 0.9870 - val_loss: 0.0310 - val_accuracy: 0.9980 - 225s/epoch - 53ms/step\n",
            "Epoch 23/30\n",
            "4252/4252 - 222s - loss: 0.0466 - accuracy: 0.9871 - val_loss: 0.0204 - val_accuracy: 0.9982 - 222s/epoch - 52ms/step\n",
            "Epoch 24/30\n",
            "4252/4252 - 220s - loss: 0.0458 - accuracy: 0.9872 - val_loss: 0.0187 - val_accuracy: 0.9965 - 220s/epoch - 52ms/step\n",
            "Epoch 25/30\n",
            "4252/4252 - 226s - loss: 0.0453 - accuracy: 0.9875 - val_loss: 0.0191 - val_accuracy: 0.9981 - 226s/epoch - 53ms/step\n",
            "Epoch 26/30\n",
            "4252/4252 - 242s - loss: 0.0449 - accuracy: 0.9875 - val_loss: 0.0208 - val_accuracy: 0.9983 - 242s/epoch - 57ms/step\n",
            "Epoch 27/30\n",
            "4252/4252 - 237s - loss: 0.0444 - accuracy: 0.9876 - val_loss: 0.0300 - val_accuracy: 0.9983 - 237s/epoch - 56ms/step\n",
            "Epoch 28/30\n",
            "4252/4252 - 215s - loss: 0.0442 - accuracy: 0.9877 - val_loss: 0.0165 - val_accuracy: 0.9984 - 215s/epoch - 51ms/step\n",
            "Epoch 29/30\n",
            "4252/4252 - 218s - loss: 0.0439 - accuracy: 0.9876 - val_loss: 0.0220 - val_accuracy: 0.9984 - 218s/epoch - 51ms/step\n",
            "Epoch 30/30\n",
            "4252/4252 - 218s - loss: 0.0436 - accuracy: 0.9877 - val_loss: 0.0162 - val_accuracy: 0.9984 - 218s/epoch - 51ms/step\n"
          ]
        }
      ],
      "source": [
        "# Let's Train\n",
        "num_epochs = 30\n",
        "history = model.fit(training_padded, training_labels, epochs=num_epochs, validation_data=(testing_padded, testing_labels), verbose=2)"
      ]
    },
    {
      "cell_type": "code",
      "execution_count": 26,
      "metadata": {
        "colab": {
          "base_uri": "https://localhost:8080/"
        },
        "id": "QDr24XGwazr2",
        "outputId": "fb122b34-05b1-4b5e-e442-577fc8b2d556"
      },
      "outputs": [
        {
          "name": "stdout",
          "output_type": "stream",
          "text": [
            "Model Saved!\n"
          ]
        }
      ],
      "source": [
        "# save model\n",
        "model.save('/tmp/twitter_lstm_sgd_model.h5')\n",
        "print('Model Saved!')"
      ]
    },
    {
      "cell_type": "code",
      "execution_count": 15,
      "metadata": {
        "colab": {
          "base_uri": "https://localhost:8080/",
          "height": 691
        },
        "id": "5lsiOqJkfkbh",
        "outputId": "6de25b38-390f-4e85-8123-3b62a3ff7298"
      },
      "outputs": [
        {
          "name": "stderr",
          "output_type": "stream",
          "text": [
            "WARNING:absl:Found untraced functions such as lstm_cell_1_layer_call_fn, lstm_cell_1_layer_call_and_return_conditional_losses, lstm_cell_2_layer_call_fn, lstm_cell_2_layer_call_and_return_conditional_losses, lstm_cell_4_layer_call_fn while saving (showing 5 of 8). These functions will not be directly callable after loading.\n"
          ]
        },
        {
          "name": "stdout",
          "output_type": "stream",
          "text": [
            "INFO:tensorflow:Assets written to: /tmp/twitter_lstm_sgd_model/assets\n"
          ]
        },
        {
          "name": "stderr",
          "output_type": "stream",
          "text": [
            "INFO:tensorflow:Assets written to: /tmp/twitter_lstm_sgd_model/assets\n",
            "WARNING:absl:<keras.layers.recurrent.LSTMCell object at 0x7f3a80929250> has the same name 'LSTMCell' as a built-in Keras object. Consider renaming <class 'keras.layers.recurrent.LSTMCell'> to avoid naming conflicts when loading with `tf.keras.models.load_model`. If renaming is not possible, pass the object in the `custom_objects` parameter of the load function.\n",
            "WARNING:absl:<keras.layers.recurrent.LSTMCell object at 0x7f3a80929b90> has the same name 'LSTMCell' as a built-in Keras object. Consider renaming <class 'keras.layers.recurrent.LSTMCell'> to avoid naming conflicts when loading with `tf.keras.models.load_model`. If renaming is not possible, pass the object in the `custom_objects` parameter of the load function.\n",
            "WARNING:absl:<keras.layers.recurrent.LSTMCell object at 0x7f3a7d07ccd0> has the same name 'LSTMCell' as a built-in Keras object. Consider renaming <class 'keras.layers.recurrent.LSTMCell'> to avoid naming conflicts when loading with `tf.keras.models.load_model`. If renaming is not possible, pass the object in the `custom_objects` parameter of the load function.\n",
            "WARNING:absl:<keras.layers.recurrent.LSTMCell object at 0x7f3a7d084b10> has the same name 'LSTMCell' as a built-in Keras object. Consider renaming <class 'keras.layers.recurrent.LSTMCell'> to avoid naming conflicts when loading with `tf.keras.models.load_model`. If renaming is not possible, pass the object in the `custom_objects` parameter of the load function.\n"
          ]
        },
        {
          "data": {
            "image/png": "[encoded data removed]",
            "text/plain": [
              "<Figure size 432x288 with 1 Axes>"
            ]
          },
          "metadata": {
            "needs_background": "light"
          },
          "output_type": "display_data"
        },
        {
          "data": {
            "image/png": "[encoded data removed]",
            "text/plain": [
              "<Figure size 432x288 with 1 Axes>"
            ]
          },
          "metadata": {
            "needs_background": "light"
          },
          "output_type": "display_data"
        }
      ],
      "source": [
        "import matplotlib.pyplot as plt\n",
        "\n",
        "def plot_graphs(history, string):\n",
        "  plt.plot(history.history[string])\n",
        "  plt.plot(history.history['val_'+string])\n",
        "  plt.xlabel(\"Epochs\")\n",
        "  plt.ylabel(string)\n",
        "  plt.legend([string, 'val_'+string])\n",
        "  plt.show()\n",
        "\n",
        "# Plotting Train & Validation Accuracy  \n",
        "plot_graphs(history, \"accuracy\")\n",
        "\n",
        "# Plotting Train & Validation Loss  \n",
        "plot_graphs(history, \"loss\")"
      ]
    },
    {
      "cell_type": "code",
      "execution_count": 13,
      "metadata": {
        "id": "WV9xa5cvTyjH"
      },
      "outputs": [],
      "source": [
        "Text_1= \"Yall couldnt impose a curfew, no REAL STRICT stay at home order for Corona but yall was SPEEDY with this eight p\""
      ]
    },
    {
      "cell_type": "code",
      "execution_count": 37,
      "metadata": {
        "colab": {
          "base_uri": "https://localhost:8080/"
        },
        "id": "4Y4yxU5-c45b",
        "outputId": "d2e83e6c-ec00-4505-a398-9065744e8501"
      },
      "outputs": [
        {
          "name": "stdout",
          "output_type": "stream",
          "text": [
            "0.9961802\n"
          ]
        }
      ],
      "source": [
        "sentence = [Text_1]\n",
        "sequences = tokenizer.texts_to_sequences(sentence)\n",
        "padded = pad_sequences(sequences, maxlen=max_length, padding=padding_type, truncating=trunc_type)\n",
        "score = (model.predict(padded))\n",
        "print(score[0][0])"
      ]
    },
    {
      "cell_type": "code",
      "execution_count": 43,
      "metadata": {
        "colab": {
          "base_uri": "https://localhost:8080/"
        },
        "id": "Fq57eF5Ys7Kr",
        "outputId": "cb3696cd-a52c-47df-9328-b8f010fa9f41"
      },
      "outputs": [
        {
          "name": "stdout",
          "output_type": "stream",
          "text": [
            "[nltk_data] Downloading package names to /root/nltk_data...\n",
            "[nltk_data]   Package names is already up-to-date!\n",
            "[nltk_data] Downloading package stopwords to /root/nltk_data...\n",
            "[nltk_data]   Package stopwords is already up-to-date!\n",
            "[nltk_data] Downloading package state_union to /root/nltk_data...\n",
            "[nltk_data]   Package state_union is already up-to-date!\n",
            "[nltk_data] Downloading package twitter_samples to /root/nltk_data...\n",
            "[nltk_data]   Package twitter_samples is already up-to-date!\n",
            "[nltk_data] Downloading package movie_reviews to /root/nltk_data...\n",
            "[nltk_data]   Package movie_reviews is already up-to-date!\n",
            "[nltk_data] Downloading package averaged_perceptron_tagger to\n",
            "[nltk_data]     /root/nltk_data...\n",
            "[nltk_data]   Package averaged_perceptron_tagger is already up-to-\n",
            "[nltk_data]       date!\n",
            "[nltk_data] Downloading package vader_lexicon to /root/nltk_data...\n",
            "[nltk_data]   Package vader_lexicon is already up-to-date!\n",
            "[nltk_data] Downloading package punkt to /root/nltk_data...\n",
            "[nltk_data]   Package punkt is already up-to-date!\n"
          ]
        },
        {
          "data": {
            "text/plain": [
              "True"
            ]
          },
          "execution_count": 43,
          "metadata": {},
          "output_type": "execute_result"
        }
      ],
      "source": [
        "import nltk\n",
        "nltk.download([\n",
        "     \"names\",\n",
        "     \"stopwords\",\n",
        "     \"state_union\",\n",
        "     \"twitter_samples\",\n",
        "     \"movie_reviews\",\n",
        "     \"averaged_perceptron_tagger\",\n",
        "     \"vader_lexicon\",\n",
        "     \"punkt\",\n",
        " ])"
      ]
    },
    {
      "cell_type": "code",
      "execution_count": 41,
      "metadata": {
        "id": "kWPdb-FAreKQ"
      },
      "outputs": [],
      "source": [
        "def get_virality(text):\n",
        "  print(text)\n",
        "  sentence = [Text_1]\n",
        "  sequences = tokenizer.texts_to_sequences(sentence)\n",
        "  padded = pad_sequences(sequences, maxlen=max_length, padding=padding_type, truncating=trunc_type)\n",
        "  score = (model.predict(padded))\n",
        "  print(score[0][0])\n",
        "\n",
        "def get_sentiment(text):\n",
        "  print(text)\n",
        "  from nltk.sentiment import SentimentIntensityAnalyzer\n",
        "  sia = SentimentIntensityAnalyzer()\n",
        "  a = sia.polarity_scores(text)\n",
        "  print(a)"
      ]
    },
    {
      "cell_type": "code",
      "execution_count": 45,
      "metadata": {
        "colab": {
          "base_uri": "https://localhost:8080/"
        },
        "id": "jKazwFL6r0Kh",
        "outputId": "9d9567ec-297a-4888-8cfb-95db6b2c798f"
      },
      "outputs": [
        {
          "name": "stdout",
          "output_type": "stream",
          "text": [
            "Yall couldnt impose a curfew, no REAL STRICT stay at home order for Corona but yall was SPEEDY with this eight p\n",
            "0.9961802\n",
            "{'neg': 0.0, 'neu': 0.862, 'pos': 0.138, 'compound': 0.2235}\n"
          ]
        }
      ],
      "source": [
        "get_virality(Text_1)\n",
        "get_sentiment(Text_1)"
      ]
    }
  ],
  "metadata": {
    "accelerator": "TPU",
    "colab": {
      "collapsed_sections": [],
      "name": "HackML Notebook.ipynb",
      "provenance": []
    },
    "kernelspec": {
      "display_name": "Python 3",
      "name": "python3"
    },
    "language_info": {
      "codemirror_mode": {
        "name": "ipython",
        "version": 3
      },
      "file_extension": ".py",
      "mimetype": "text/x-python",
      "name": "python",
      "nbconvert_exporter": "python",
      "pygments_lexer": "ipython3",
      "version": "3.10.2"
    }
  },
  "nbformat": 4,
  "nbformat_minor": 0
}
