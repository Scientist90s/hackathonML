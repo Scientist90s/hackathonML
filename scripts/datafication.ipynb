{
 "cells": [
  {
   "cell_type": "code",
   "execution_count": 171,
   "metadata": {},
   "outputs": [],
   "source": [
    "import pandas as pd\n",
    "import os\n",
    "import matplotlib\n",
    "import math\n",
    "\n",
    "# File path for jsonl data\n",
    "file_path1 = os.path.join(os.path.dirname(os.getcwd()),\"data\\\\covid19_partition_1.2020-06-01_00.jsonl\")\n",
    "save_path = os.path.join(os.path.dirname(os.getcwd()),\"data\\\\cleaned_data.json\")\n",
    "save_path_english = os.path.join(os.path.dirname(os.getcwd()),\"data\\\\cleaned_data_en.json\")"
   ]
  },
  {
   "cell_type": "code",
   "execution_count": 172,
   "metadata": {},
   "outputs": [],
   "source": [
    "# conveting json to DataFrame\n",
    "part1 = pd.read_json(os.path.join(os.path.dirname(os.getcwd()),\"data\\\\covid19_partition_1.2020-06-01_00.jsonl\"),lines=True)\n",
    "part2 = pd.read_json(os.path.join(os.path.dirname(os.getcwd()),\"data\\\\covid19_partition_2.2020-06-01_00.jsonl\"),lines=True)\n",
    "part3 = pd.read_json(os.path.join(os.path.dirname(os.getcwd()),\"data\\\\covid19_partition_3.2020-06-01_00.jsonl\"),lines=True)\n",
    "part4 = pd.read_json(os.path.join(os.path.dirname(os.getcwd()),\"data\\\\covid19_partition_4.2020-06-01_00.jsonl\"),lines=True)\n",
    "merged = [part1, part2, part3, part4]\n",
    "twitterdf = pd.concat(merged)"
   ]
  },
  {
   "cell_type": "code",
   "execution_count": 173,
   "metadata": {},
   "outputs": [
    {
     "name": "stdout",
     "output_type": "stream",
     "text": [
      "<class 'pandas.core.frame.DataFrame'>\n",
      "RangeIndex: 342855 entries, 0 to 342854\n",
      "Data columns (total 4 columns):\n",
      " #   Column         Non-Null Count   Dtype \n",
      "---  ------         --------------   ----- \n",
      " 0   id             342855 non-null  int64 \n",
      " 1   text           342855 non-null  object\n",
      " 2   retweet_count  342855 non-null  int64 \n",
      " 3   lang           342855 non-null  object\n",
      "dtypes: int64(2), object(2)\n",
      "memory usage: 10.5+ MB\n",
      "None\n",
      "                    id                                               text  \\\n",
      "0  1266414710573973505  Donald Trump called Mexicans “rapists” &amp; “...   \n",
      "1  1264535285964001280  西村康稔コロナ担当大臣がよくテレビに出る。私は、この人間が数年前とはいえ、ベトナムで一度に３...   \n",
      "2  1267236764520833025  These motherfuckers went from “wearing a mask ...   \n",
      "3  1267128761658437633  They can't give you money to survive a pandemi...   \n",
      "4  1253450011947470848  Cumpa, sabes quien en plena pandemia está llev...   \n",
      "\n",
      "   retweet_count lang  \n",
      "0         145008   en  \n",
      "1           8385   ja  \n",
      "2           2958   en  \n",
      "3          35179   en  \n",
      "4           1468   es  \n"
     ]
    },
    {
     "data": {
      "text/plain": [
       "<AxesSubplot:>"
      ]
     },
     "execution_count": 173,
     "metadata": {},
     "output_type": "execute_result"
    },
    {
     "data": {
      "image/png": "[encoded data removed]",
      "text/plain": [
       "<Figure size 432x288 with 1 Axes>"
      ]
     },
     "metadata": {
      "needs_background": "light"
     },
     "output_type": "display_data"
    }
   ],
   "source": [
    "# extract retweeted data\n",
    "retweeted = twitterdf[\"retweeted_status\"].dropna()\n",
    "retweeted_status = pd.DataFrame(retweeted.values.tolist(), columns=[\"id\", \"text\", \"retweet_count\", \"lang\"])\n",
    "print(retweeted_status.info())\n",
    "print(retweeted_status.head())\n",
    "retweeted_status[\"retweet_count\"].plot()"
   ]
  },
  {
   "cell_type": "code",
   "execution_count": 174,
   "metadata": {},
   "outputs": [
    {
     "name": "stdout",
     "output_type": "stream",
     "text": [
      "37352.73411306413\n",
      "8385\n"
     ]
    }
   ],
   "source": [
    "# calculating threshold for virality using 84.1% as threshold  \n",
    "count_mean = retweeted_status[\"retweet_count\"].mean()\n",
    "count_std = (retweeted_status[\"retweet_count\"].std())\n",
    "threshold = count_mean + count_std\n",
    "print(threshold)\n",
    "print(retweeted_status[\"retweet_count\"][1])"
   ]
  },
  {
   "cell_type": "code",
   "execution_count": 175,
   "metadata": {},
   "outputs": [
    {
     "name": "stdout",
     "output_type": "stream",
     "text": [
      "0         1\n",
      "1         0\n",
      "2         0\n",
      "3         0\n",
      "4         0\n",
      "         ..\n",
      "342850    1\n",
      "342851    1\n",
      "342852    0\n",
      "342853    0\n",
      "342854    0\n",
      "Name: viral, Length: 342855, dtype: int64\n"
     ]
    },
    {
     "name": "stderr",
     "output_type": "stream",
     "text": [
      "C:\\Users\\yshet\\AppData\\Local\\Temp\\ipykernel_2304\\118328893.py:3: SettingWithCopyWarning: \n",
      "A value is trying to be set on a copy of a slice from a DataFrame\n",
      "\n",
      "See the caveats in the documentation: https://pandas.pydata.org/pandas-docs/stable/user_guide/indexing.html#returning-a-view-versus-a-copy\n",
      "  retweeted_status[\"viral\"][retweeted_status[\"retweet_count\"] > threshold] = 1\n",
      "C:\\Users\\yshet\\AppData\\Local\\Temp\\ipykernel_2304\\118328893.py:4: SettingWithCopyWarning: \n",
      "A value is trying to be set on a copy of a slice from a DataFrame\n",
      "\n",
      "See the caveats in the documentation: https://pandas.pydata.org/pandas-docs/stable/user_guide/indexing.html#returning-a-view-versus-a-copy\n",
      "  retweeted_status[\"viral\"][retweeted_status[\"retweet_count\"] < threshold] = 0\n"
     ]
    }
   ],
   "source": [
    "# using threshold to generate virality column\n",
    "retweeted_status[\"viral\"] = int()\n",
    "retweeted_status[\"viral\"][retweeted_status[\"retweet_count\"] > threshold] = 1\n",
    "retweeted_status[\"viral\"][retweeted_status[\"retweet_count\"] < threshold] = 0\n",
    "print(retweeted_status[\"viral\"])"
   ]
  },
  {
   "cell_type": "code",
   "execution_count": 176,
   "metadata": {},
   "outputs": [
    {
     "name": "stdout",
     "output_type": "stream",
     "text": [
      "<class 'pandas.core.frame.DataFrame'>\n",
      "RangeIndex: 342855 entries, 0 to 342854\n",
      "Data columns (total 5 columns):\n",
      " #   Column         Non-Null Count   Dtype \n",
      "---  ------         --------------   ----- \n",
      " 0   id             342855 non-null  int64 \n",
      " 1   text           342855 non-null  object\n",
      " 2   retweet_count  342855 non-null  int64 \n",
      " 3   lang           342855 non-null  object\n",
      " 4   viral          342855 non-null  int64 \n",
      "dtypes: int64(3), object(2)\n",
      "memory usage: 13.1+ MB\n"
     ]
    }
   ],
   "source": [
    "retweeted_status.info()"
   ]
  },
  {
   "cell_type": "code",
   "execution_count": 177,
   "metadata": {},
   "outputs": [
    {
     "data": {
      "text/html": [
       "<div>\n",
       "<style scoped>\n",
       "    .dataframe tbody tr th:only-of-type {\n",
       "        vertical-align: middle;\n",
       "    }\n",
       "\n",
       "    .dataframe tbody tr th {\n",
       "        vertical-align: top;\n",
       "    }\n",
       "\n",
       "    .dataframe thead th {\n",
       "        text-align: right;\n",
       "    }\n",
       "</style>\n",
       "<table border=\"1\" class=\"dataframe\">\n",
       "  <thead>\n",
       "    <tr style=\"text-align: right;\">\n",
       "      <th></th>\n",
       "      <th>id</th>\n",
       "      <th>text</th>\n",
       "      <th>retweet_count</th>\n",
       "      <th>lang</th>\n",
       "      <th>viral</th>\n",
       "    </tr>\n",
       "  </thead>\n",
       "  <tbody>\n",
       "    <tr>\n",
       "      <th>0</th>\n",
       "      <td>1266414710573973505</td>\n",
       "      <td>Donald Trump called Mexicans “rapists” &amp;amp; “...</td>\n",
       "      <td>145008</td>\n",
       "      <td>en</td>\n",
       "      <td>1</td>\n",
       "    </tr>\n",
       "    <tr>\n",
       "      <th>1</th>\n",
       "      <td>1264535285964001280</td>\n",
       "      <td>西村康稔コロナ担当大臣がよくテレビに出る。私は、この人間が数年前とはいえ、ベトナムで一度に３...</td>\n",
       "      <td>8385</td>\n",
       "      <td>ja</td>\n",
       "      <td>0</td>\n",
       "    </tr>\n",
       "    <tr>\n",
       "      <th>2</th>\n",
       "      <td>1267236764520833025</td>\n",
       "      <td>These motherfuckers went from “wearing a mask ...</td>\n",
       "      <td>2958</td>\n",
       "      <td>en</td>\n",
       "      <td>0</td>\n",
       "    </tr>\n",
       "    <tr>\n",
       "      <th>3</th>\n",
       "      <td>1267128761658437633</td>\n",
       "      <td>They can't give you money to survive a pandemi...</td>\n",
       "      <td>35179</td>\n",
       "      <td>en</td>\n",
       "      <td>0</td>\n",
       "    </tr>\n",
       "    <tr>\n",
       "      <th>4</th>\n",
       "      <td>1253450011947470848</td>\n",
       "      <td>Cumpa, sabes quien en plena pandemia está llev...</td>\n",
       "      <td>1468</td>\n",
       "      <td>es</td>\n",
       "      <td>0</td>\n",
       "    </tr>\n",
       "    <tr>\n",
       "      <th>...</th>\n",
       "      <td>...</td>\n",
       "      <td>...</td>\n",
       "      <td>...</td>\n",
       "      <td>...</td>\n",
       "      <td>...</td>\n",
       "    </tr>\n",
       "    <tr>\n",
       "      <th>342850</th>\n",
       "      <td>1267066200049229824</td>\n",
       "      <td>Attending protests is not for everyone and tha...</td>\n",
       "      <td>112792</td>\n",
       "      <td>en</td>\n",
       "      <td>1</td>\n",
       "    </tr>\n",
       "    <tr>\n",
       "      <th>342851</th>\n",
       "      <td>1266897990238851074</td>\n",
       "      <td>la is closing covid-19 testing centers to puni...</td>\n",
       "      <td>63875</td>\n",
       "      <td>en</td>\n",
       "      <td>1</td>\n",
       "    </tr>\n",
       "    <tr>\n",
       "      <th>342852</th>\n",
       "      <td>1266978694708355072</td>\n",
       "      <td>i DO NOT recommend telling healthcare provider...</td>\n",
       "      <td>19782</td>\n",
       "      <td>en</td>\n",
       "      <td>0</td>\n",
       "    </tr>\n",
       "    <tr>\n",
       "      <th>342853</th>\n",
       "      <td>1267264198897262596</td>\n",
       "      <td>「なぜ仕事を奪われるのか、納得いかない」\\n\\n風邪で休んだ従業員に対し、会社が新型コロナ感...</td>\n",
       "      <td>23</td>\n",
       "      <td>ja</td>\n",
       "      <td>0</td>\n",
       "    </tr>\n",
       "    <tr>\n",
       "      <th>342854</th>\n",
       "      <td>1267236764520833025</td>\n",
       "      <td>These motherfuckers went from “wearing a mask ...</td>\n",
       "      <td>7699</td>\n",
       "      <td>en</td>\n",
       "      <td>0</td>\n",
       "    </tr>\n",
       "  </tbody>\n",
       "</table>\n",
       "<p>319669 rows × 5 columns</p>\n",
       "</div>"
      ],
      "text/plain": [
       "                         id  \\\n",
       "0       1266414710573973505   \n",
       "1       1264535285964001280   \n",
       "2       1267236764520833025   \n",
       "3       1267128761658437633   \n",
       "4       1253450011947470848   \n",
       "...                     ...   \n",
       "342850  1267066200049229824   \n",
       "342851  1266897990238851074   \n",
       "342852  1266978694708355072   \n",
       "342853  1267264198897262596   \n",
       "342854  1267236764520833025   \n",
       "\n",
       "                                                     text  retweet_count lang  \\\n",
       "0       Donald Trump called Mexicans “rapists” &amp; “...         145008   en   \n",
       "1       西村康稔コロナ担当大臣がよくテレビに出る。私は、この人間が数年前とはいえ、ベトナムで一度に３...           8385   ja   \n",
       "2       These motherfuckers went from “wearing a mask ...           2958   en   \n",
       "3       They can't give you money to survive a pandemi...          35179   en   \n",
       "4       Cumpa, sabes quien en plena pandemia está llev...           1468   es   \n",
       "...                                                   ...            ...  ...   \n",
       "342850  Attending protests is not for everyone and tha...         112792   en   \n",
       "342851  la is closing covid-19 testing centers to puni...          63875   en   \n",
       "342852  i DO NOT recommend telling healthcare provider...          19782   en   \n",
       "342853  「なぜ仕事を奪われるのか、納得いかない」\\n\\n風邪で休んだ従業員に対し、会社が新型コロナ感...             23   ja   \n",
       "342854  These motherfuckers went from “wearing a mask ...           7699   en   \n",
       "\n",
       "        viral  \n",
       "0           1  \n",
       "1           0  \n",
       "2           0  \n",
       "3           0  \n",
       "4           0  \n",
       "...       ...  \n",
       "342850      1  \n",
       "342851      1  \n",
       "342852      0  \n",
       "342853      0  \n",
       "342854      0  \n",
       "\n",
       "[319669 rows x 5 columns]"
      ]
     },
     "execution_count": 177,
     "metadata": {},
     "output_type": "execute_result"
    }
   ],
   "source": [
    "# removing duplicates\n",
    "retweeted_status.drop_duplicates()"
   ]
  },
  {
   "cell_type": "code",
   "execution_count": 178,
   "metadata": {},
   "outputs": [],
   "source": [
    "# saving to json data file with all languages\n",
    "retweeted_status.to_json(save_path, orient=\"records\")"
   ]
  },
  {
   "cell_type": "code",
   "execution_count": 179,
   "metadata": {},
   "outputs": [
    {
     "name": "stdout",
     "output_type": "stream",
     "text": [
      "<class 'pandas.core.frame.DataFrame'>\n",
      "Int64Index: 170068 entries, 0 to 342854\n",
      "Data columns (total 5 columns):\n",
      " #   Column         Non-Null Count   Dtype \n",
      "---  ------         --------------   ----- \n",
      " 0   id             170068 non-null  int64 \n",
      " 1   text           170068 non-null  object\n",
      " 2   retweet_count  170068 non-null  int64 \n",
      " 3   lang           170068 non-null  object\n",
      " 4   viral          170068 non-null  int64 \n",
      "dtypes: int64(3), object(2)\n",
      "memory usage: 7.8+ MB\n"
     ]
    },
    {
     "data": {
      "text/html": [
       "<div>\n",
       "<style scoped>\n",
       "    .dataframe tbody tr th:only-of-type {\n",
       "        vertical-align: middle;\n",
       "    }\n",
       "\n",
       "    .dataframe tbody tr th {\n",
       "        vertical-align: top;\n",
       "    }\n",
       "\n",
       "    .dataframe thead th {\n",
       "        text-align: right;\n",
       "    }\n",
       "</style>\n",
       "<table border=\"1\" class=\"dataframe\">\n",
       "  <thead>\n",
       "    <tr style=\"text-align: right;\">\n",
       "      <th></th>\n",
       "      <th>id</th>\n",
       "      <th>text</th>\n",
       "      <th>retweet_count</th>\n",
       "      <th>lang</th>\n",
       "      <th>viral</th>\n",
       "    </tr>\n",
       "  </thead>\n",
       "  <tbody>\n",
       "    <tr>\n",
       "      <th>0</th>\n",
       "      <td>1266414710573973505</td>\n",
       "      <td>Donald Trump called Mexicans “rapists” &amp;amp; “...</td>\n",
       "      <td>145008</td>\n",
       "      <td>en</td>\n",
       "      <td>1</td>\n",
       "    </tr>\n",
       "    <tr>\n",
       "      <th>2</th>\n",
       "      <td>1267236764520833025</td>\n",
       "      <td>These motherfuckers went from “wearing a mask ...</td>\n",
       "      <td>2958</td>\n",
       "      <td>en</td>\n",
       "      <td>0</td>\n",
       "    </tr>\n",
       "    <tr>\n",
       "      <th>3</th>\n",
       "      <td>1267128761658437633</td>\n",
       "      <td>They can't give you money to survive a pandemi...</td>\n",
       "      <td>35179</td>\n",
       "      <td>en</td>\n",
       "      <td>0</td>\n",
       "    </tr>\n",
       "    <tr>\n",
       "      <th>6</th>\n",
       "      <td>1266897990238851074</td>\n",
       "      <td>la is closing covid-19 testing centers to puni...</td>\n",
       "      <td>57982</td>\n",
       "      <td>en</td>\n",
       "      <td>1</td>\n",
       "    </tr>\n",
       "    <tr>\n",
       "      <th>7</th>\n",
       "      <td>1266956431300984839</td>\n",
       "      <td>one thing covid-19 has taught me, is that raci...</td>\n",
       "      <td>3</td>\n",
       "      <td>en</td>\n",
       "      <td>0</td>\n",
       "    </tr>\n",
       "  </tbody>\n",
       "</table>\n",
       "</div>"
      ],
      "text/plain": [
       "                    id                                               text  \\\n",
       "0  1266414710573973505  Donald Trump called Mexicans “rapists” &amp; “...   \n",
       "2  1267236764520833025  These motherfuckers went from “wearing a mask ...   \n",
       "3  1267128761658437633  They can't give you money to survive a pandemi...   \n",
       "6  1266897990238851074  la is closing covid-19 testing centers to puni...   \n",
       "7  1266956431300984839  one thing covid-19 has taught me, is that raci...   \n",
       "\n",
       "   retweet_count lang  viral  \n",
       "0         145008   en      1  \n",
       "2           2958   en      0  \n",
       "3          35179   en      0  \n",
       "6          57982   en      1  \n",
       "7              3   en      0  "
      ]
     },
     "execution_count": 179,
     "metadata": {},
     "output_type": "execute_result"
    }
   ],
   "source": [
    "# only english data filtered\n",
    "english_retweet = retweeted_status[retweeted_status[\"lang\"]==\"en\"]\n",
    "english_retweet.info()\n",
    "english_retweet.head()"
   ]
  },
  {
   "cell_type": "code",
   "execution_count": 180,
   "metadata": {},
   "outputs": [
    {
     "name": "stdout",
     "output_type": "stream",
     "text": [
      "<class 'pandas.core.frame.DataFrame'>\n",
      "Int64Index: 170068 entries, 0 to 342854\n",
      "Data columns (total 5 columns):\n",
      " #   Column         Non-Null Count   Dtype \n",
      "---  ------         --------------   ----- \n",
      " 0   id             170068 non-null  int64 \n",
      " 1   text           170068 non-null  object\n",
      " 2   retweet_count  170068 non-null  int64 \n",
      " 3   lang           170068 non-null  object\n",
      " 4   viral          170068 non-null  int64 \n",
      "dtypes: int64(3), object(2)\n",
      "memory usage: 7.8+ MB\n"
     ]
    },
    {
     "name": "stderr",
     "output_type": "stream",
     "text": [
      "C:\\Users\\yshet\\AppData\\Local\\Temp\\ipykernel_2304\\2642700700.py:2: SettingWithCopyWarning: \n",
      "A value is trying to be set on a copy of a slice from a DataFrame.\n",
      "Try using .loc[row_indexer,col_indexer] = value instead\n",
      "\n",
      "See the caveats in the documentation: https://pandas.pydata.org/pandas-docs/stable/user_guide/indexing.html#returning-a-view-versus-a-copy\n",
      "  english_retweet['text'] = english_retweet['text'].replace(to_replace=r'https:\\/\\/.*[\\r\\n]*',value='',regex=True)\n"
     ]
    }
   ],
   "source": [
    "# removing URLs from the text\n",
    "english_retweet['text'] = english_retweet['text'].replace(to_replace=r'https:\\/\\/.*[\\r\\n]*',value='',regex=True)\n",
    "english_retweet.info()"
   ]
  },
  {
   "cell_type": "code",
   "execution_count": 181,
   "metadata": {},
   "outputs": [
    {
     "name": "stdout",
     "output_type": "stream",
     "text": [
      "<class 'pandas.core.frame.DataFrame'>\n",
      "Int64Index: 170068 entries, 0 to 342854\n",
      "Data columns (total 5 columns):\n",
      " #   Column         Non-Null Count   Dtype \n",
      "---  ------         --------------   ----- \n",
      " 0   id             170068 non-null  int64 \n",
      " 1   text           170068 non-null  object\n",
      " 2   retweet_count  170068 non-null  int64 \n",
      " 3   lang           170068 non-null  object\n",
      " 4   viral          170068 non-null  int64 \n",
      "dtypes: int64(3), object(2)\n",
      "memory usage: 7.8+ MB\n"
     ]
    },
    {
     "name": "stderr",
     "output_type": "stream",
     "text": [
      "C:\\Users\\yshet\\AppData\\Local\\Temp\\ipykernel_2304\\2026298721.py:2: SettingWithCopyWarning: \n",
      "A value is trying to be set on a copy of a slice from a DataFrame.\n",
      "Try using .loc[row_indexer,col_indexer] = value instead\n",
      "\n",
      "See the caveats in the documentation: https://pandas.pydata.org/pandas-docs/stable/user_guide/indexing.html#returning-a-view-versus-a-copy\n",
      "  english_retweet['text'] = english_retweet['text'].replace(to_replace=r'\\n',value='',regex=True)\n"
     ]
    }
   ],
   "source": [
    "# removing \\n from the text\n",
    "english_retweet['text'] = english_retweet['text'].replace(to_replace=r'\\n',value='',regex=True)\n",
    "english_retweet.info()"
   ]
  },
  {
   "cell_type": "code",
   "execution_count": 182,
   "metadata": {},
   "outputs": [
    {
     "name": "stdout",
     "output_type": "stream",
     "text": [
      "<class 'pandas.core.frame.DataFrame'>\n",
      "Int64Index: 170068 entries, 0 to 342854\n",
      "Data columns (total 5 columns):\n",
      " #   Column         Non-Null Count   Dtype \n",
      "---  ------         --------------   ----- \n",
      " 0   id             170068 non-null  int64 \n",
      " 1   text           170068 non-null  object\n",
      " 2   retweet_count  170068 non-null  int64 \n",
      " 3   lang           170068 non-null  object\n",
      " 4   viral          170068 non-null  int64 \n",
      "dtypes: int64(3), object(2)\n",
      "memory usage: 7.8+ MB\n"
     ]
    },
    {
     "name": "stderr",
     "output_type": "stream",
     "text": [
      "C:\\Users\\yshet\\AppData\\Local\\Temp\\ipykernel_2304\\2474304356.py:2: SettingWithCopyWarning: \n",
      "A value is trying to be set on a copy of a slice from a DataFrame.\n",
      "Try using .loc[row_indexer,col_indexer] = value instead\n",
      "\n",
      "See the caveats in the documentation: https://pandas.pydata.org/pandas-docs/stable/user_guide/indexing.html#returning-a-view-versus-a-copy\n",
      "  english_retweet[\"text\"] = english_retweet[\"text\"].apply(lambda x: x.encode('ascii', 'ignore').decode('ascii'))\n"
     ]
    }
   ],
   "source": [
    "# removing emojis from the text\n",
    "english_retweet[\"text\"] = english_retweet[\"text\"].apply(lambda x: x.encode('ascii', 'ignore').decode('ascii'))\n",
    "english_retweet.info()"
   ]
  },
  {
   "cell_type": "code",
   "execution_count": 183,
   "metadata": {},
   "outputs": [],
   "source": [
    "# saving english retweets to json file\n",
    "english_retweet.to_json(save_path_english, orient=\"records\")"
   ]
  },
  {
   "cell_type": "code",
   "execution_count": null,
   "metadata": {},
   "outputs": [],
   "source": []
  }
 ],
 "metadata": {
  "interpreter": {
   "hash": "e3b596fa9d2edc12515594269d6222437e007494f4f72730097e8ec1cfa2311a"
  },
  "kernelspec": {
   "display_name": "Python 3.10.2 ('.hackathonML': venv)",
   "language": "python",
   "name": "python3"
  },
  "language_info": {
   "codemirror_mode": {
    "name": "ipython",
    "version": 3
   },
   "file_extension": ".py",
   "mimetype": "text/x-python",
   "name": "python",
   "nbconvert_exporter": "python",
   "pygments_lexer": "ipython3",
   "version": "3.10.2"
  },
  "orig_nbformat": 4
 },
 "nbformat": 4,
 "nbformat_minor": 2
}
