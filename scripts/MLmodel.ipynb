{
  "cells": [
    {
      "cell_type": "code",
      "execution_count": 1,
      "metadata": {
        "id": "t786PZdgbTjk"
      },
      "outputs": [],
      "source": [
        "# Run this to ensure TensorFlow 2.x is used\n",
        "try:\n",
        "  # %tensorflow_version only exists in Colab.\n",
        "  %tensorflow_version 2.x\n",
        "except Exception:\n",
        "  pass"
      ]
    },
    {
      "cell_type": "code",
      "execution_count": 3,
      "metadata": {
        "id": "-_p7-YtjbVu6"
      },
      "outputs": [],
      "source": [
        "import json\n",
        "import tensorflow as tf\n",
        "import os\n",
        "\n",
        "from tensorflow.keras.preprocessing.text import Tokenizer\n",
        "from tensorflow.keras.preprocessing.sequence import pad_sequences"
      ]
    },
    {
      "cell_type": "code",
      "execution_count": 1,
      "metadata": {
        "id": "8ktrd5AtbaG1"
      },
      "outputs": [],
      "source": [
        "vocab_size = 10000\n",
        "embedding_dim = 16\n",
        "max_length = 30\n",
        "trunc_type='post'\n",
        "padding_type='post'\n",
        "oov_tok = \"<OOV>\"\n",
        "training_size = 136054\n",
        "file_path = os.path.join(os.path.dirname(os.getcwd()),\"data\\\\cleaned_data_en_4file.json\")\n",
        "model_save_path = os.path.join(os.path.dirname(os.getcwd()),\"models\\\\twitter_LSTM_model\")"
      ]
    },
    {
      "cell_type": "code",
      "execution_count": 4,
      "metadata": {
        "id": "xo5WZ-VUbhoc"
      },
      "outputs": [],
      "source": [
        "with open(file_path, 'r') as f:\n",
        "    datastore = json.load(f)\n",
        "\n",
        "sentences = []\n",
        "labels = []\n",
        "\n",
        "for item in datastore:\n",
        "    sentences.append(item['text'])\n",
        "    labels.append(item['viral'])"
      ]
    },
    {
      "cell_type": "code",
      "execution_count": 5,
      "metadata": {
        "colab": {
          "base_uri": "https://localhost:8080/"
        },
        "id": "8SRmDR11hHhL",
        "outputId": "e757b752-d401-4c5b-a11f-5cc6a7c184d5"
      },
      "outputs": [
        {
          "name": "stdout",
          "output_type": "stream",
          "text": [
            "sentences:  170068\n",
            "labels [0, 0, 1, 0, 0, 0, 0, 0, 0]\n"
          ]
        }
      ],
      "source": [
        "print(\"sentences: \", len(sentences))\n",
        "print(\"labels\", labels[1:10])"
      ]
    },
    {
      "cell_type": "code",
      "execution_count": 6,
      "metadata": {
        "id": "Ez105OZTbu3b"
      },
      "outputs": [],
      "source": [
        "training_sentences = sentences[0:training_size]\n",
        "testing_sentences = sentences[training_size:]\n",
        "training_labels = labels[0:training_size]\n",
        "testing_labels = labels[training_size:]"
      ]
    },
    {
      "cell_type": "code",
      "execution_count": 7,
      "metadata": {
        "id": "blE_46ANbxWi"
      },
      "outputs": [],
      "source": [
        "tokenizer = Tokenizer(num_words=vocab_size, oov_token=oov_tok)\n",
        "tokenizer.fit_on_texts(training_sentences)\n",
        "\n",
        "word_index = tokenizer.word_index\n",
        "\n",
        "training_sequences = tokenizer.texts_to_sequences(training_sentences)\n",
        "training_padded = pad_sequences(training_sequences, maxlen=max_length, padding=padding_type, truncating=trunc_type)\n",
        "\n",
        "testing_sequences = tokenizer.texts_to_sequences(testing_sentences)\n",
        "testing_padded = pad_sequences(testing_sequences, maxlen=max_length, padding=padding_type, truncating=trunc_type)"
      ]
    },
    {
      "cell_type": "code",
      "execution_count": 8,
      "metadata": {
        "id": "giwhZ9Vrbzul"
      },
      "outputs": [],
      "source": [
        "# Need this block to get it to work with TensorFlow 2.x\n",
        "import numpy as np\n",
        "training_padded = np.array(training_padded)\n",
        "training_labels = np.array(training_labels)\n",
        "testing_padded = np.array(testing_padded)\n",
        "testing_labels = np.array(testing_labels)"
      ]
    },
    {
      "cell_type": "code",
      "execution_count": 9,
      "metadata": {
        "id": "WpeDSqrrb3NF"
      },
      "outputs": [],
      "source": [
        "model = tf.keras.Sequential([\n",
        "    tf.keras.layers.Embedding(vocab_size, embedding_dim, input_length=max_length),\n",
        "    # tf.keras.layers.Conv1D(64, 5, activation='relu'),\n",
        "    # tf.keras.layers.GlobalAveragePooling1D(),\n",
        "    # tf.keras.layers.Dense(24, activation='relu'),\n",
        "    # tf.keras.layers.Dense(1, activation='sigmoid')\n",
        "    tf.keras.layers.Bidirectional(tf.keras.layers.LSTM(64, return_sequences=True)),\n",
        "    tf.keras.layers.Bidirectional(tf.keras.layers.LSTM(32)),\n",
        "    tf.keras.layers.Dense(64, activation='relu'),\n",
        "    tf.keras.layers.Dense(1, activation='sigmoid')\n",
        "])\n",
        "sgdm_optimizer = tf.keras.optimizers.SGD(learning_rate=0.01)\n",
        "model.compile(loss='binary_crossentropy', optimizer=sgdm_optimizer, metrics=['accuracy'])"
      ]
    },
    {
      "cell_type": "code",
      "execution_count": 10,
      "metadata": {
        "colab": {
          "base_uri": "https://localhost:8080/"
        },
        "id": "yEFp0XMSb7cp",
        "outputId": "533d0f2a-1623-4c51-aa9e-608701907cf3"
      },
      "outputs": [
        {
          "name": "stdout",
          "output_type": "stream",
          "text": [
            "Model: \"sequential\"\n",
            "_________________________________________________________________\n",
            " Layer (type)                Output Shape              Param #   \n",
            "=================================================================\n",
            " embedding (Embedding)       (None, 30, 16)            160000    \n",
            "                                                                 \n",
            " bidirectional (Bidirectiona  (None, 30, 128)          41472     \n",
            " l)                                                              \n",
            "                                                                 \n",
            " bidirectional_1 (Bidirectio  (None, 64)               41216     \n",
            " nal)                                                            \n",
            "                                                                 \n",
            " dense (Dense)               (None, 64)                4160      \n",
            "                                                                 \n",
            " dense_1 (Dense)             (None, 1)                 65        \n",
            "                                                                 \n",
            "=================================================================\n",
            "Total params: 246,913\n",
            "Trainable params: 246,913\n",
            "Non-trainable params: 0\n",
            "_________________________________________________________________\n"
          ]
        }
      ],
      "source": [
        "model.summary()"
      ]
    },
    {
      "cell_type": "code",
      "execution_count": 11,
      "metadata": {
        "colab": {
          "base_uri": "https://localhost:8080/"
        },
        "id": "YrXnjJudchXB",
        "outputId": "d52fafcf-4caa-42e6-9464-e1991bd63039"
      },
      "outputs": [
        {
          "name": "stdout",
          "output_type": "stream",
          "text": [
            "Epoch 1/50\n",
            "4252/4252 - 64s - loss: 0.5110 - accuracy: 0.7732 - val_loss: 0.1125 - val_accuracy: 0.9867 - 64s/epoch - 15ms/step\n",
            "Epoch 2/50\n",
            "4252/4252 - 58s - loss: 0.1439 - accuracy: 0.9560 - val_loss: 0.0635 - val_accuracy: 0.9904 - 58s/epoch - 14ms/step\n",
            "Epoch 3/50\n",
            "4252/4252 - 58s - loss: 0.0886 - accuracy: 0.9789 - val_loss: 0.0619 - val_accuracy: 0.9904 - 58s/epoch - 14ms/step\n",
            "Epoch 4/50\n",
            "4252/4252 - 58s - loss: 0.0820 - accuracy: 0.9799 - val_loss: 0.0550 - val_accuracy: 0.9918 - 58s/epoch - 14ms/step\n",
            "Epoch 5/50\n",
            "4252/4252 - 58s - loss: 0.0728 - accuracy: 0.9818 - val_loss: 0.0381 - val_accuracy: 0.9955 - 58s/epoch - 14ms/step\n",
            "Epoch 6/50\n",
            "4252/4252 - 58s - loss: 0.0682 - accuracy: 0.9827 - val_loss: 0.0380 - val_accuracy: 0.9955 - 58s/epoch - 14ms/step\n",
            "Epoch 7/50\n",
            "4252/4252 - 58s - loss: 0.0594 - accuracy: 0.9844 - val_loss: 0.0301 - val_accuracy: 0.9972 - 58s/epoch - 14ms/step\n",
            "Epoch 8/50\n",
            "4252/4252 - 58s - loss: 0.0468 - accuracy: 0.9870 - val_loss: 0.0246 - val_accuracy: 0.9981 - 58s/epoch - 14ms/step\n",
            "Epoch 9/50\n",
            "4252/4252 - 57s - loss: 0.0459 - accuracy: 0.9871 - val_loss: 0.0251 - val_accuracy: 0.9980 - 57s/epoch - 13ms/step\n",
            "Epoch 10/50\n",
            "4252/4252 - 58s - loss: 0.0445 - accuracy: 0.9874 - val_loss: 0.0249 - val_accuracy: 0.9980 - 58s/epoch - 14ms/step\n",
            "Epoch 11/50\n",
            "4252/4252 - 57s - loss: 0.0438 - accuracy: 0.9876 - val_loss: 0.0210 - val_accuracy: 0.9983 - 57s/epoch - 13ms/step\n",
            "Epoch 12/50\n",
            "4252/4252 - 54s - loss: 0.0432 - accuracy: 0.9877 - val_loss: 0.0224 - val_accuracy: 0.9983 - 54s/epoch - 13ms/step\n",
            "Epoch 13/50\n",
            "4252/4252 - 59s - loss: 0.0428 - accuracy: 0.9877 - val_loss: 0.0201 - val_accuracy: 0.9986 - 59s/epoch - 14ms/step\n",
            "Epoch 14/50\n",
            "4252/4252 - 62s - loss: 0.0697 - accuracy: 0.9745 - val_loss: 0.0383 - val_accuracy: 0.9940 - 62s/epoch - 15ms/step\n",
            "Epoch 15/50\n",
            "4252/4252 - 58s - loss: 0.0498 - accuracy: 0.9868 - val_loss: 0.0210 - val_accuracy: 0.9986 - 58s/epoch - 14ms/step\n",
            "Epoch 16/50\n",
            "4252/4252 - 58s - loss: 0.0420 - accuracy: 0.9879 - val_loss: 0.0232 - val_accuracy: 0.9986 - 58s/epoch - 14ms/step\n",
            "Epoch 17/50\n",
            "4252/4252 - 56s - loss: 0.0419 - accuracy: 0.9879 - val_loss: 0.0222 - val_accuracy: 0.9984 - 56s/epoch - 13ms/step\n",
            "Epoch 18/50\n",
            "4252/4252 - 56s - loss: 0.0418 - accuracy: 0.9879 - val_loss: 0.0214 - val_accuracy: 0.9986 - 56s/epoch - 13ms/step\n",
            "Epoch 19/50\n",
            "4252/4252 - 57s - loss: 0.0418 - accuracy: 0.9879 - val_loss: 0.0239 - val_accuracy: 0.9986 - 57s/epoch - 13ms/step\n",
            "Epoch 20/50\n",
            "4252/4252 - 56s - loss: 0.0414 - accuracy: 0.9879 - val_loss: 0.0195 - val_accuracy: 0.9988 - 56s/epoch - 13ms/step\n",
            "Epoch 21/50\n",
            "4252/4252 - 56s - loss: 0.0411 - accuracy: 0.9880 - val_loss: 0.0198 - val_accuracy: 0.9987 - 56s/epoch - 13ms/step\n",
            "Epoch 22/50\n",
            "4252/4252 - 57s - loss: 0.0410 - accuracy: 0.9880 - val_loss: 0.0210 - val_accuracy: 0.9987 - 57s/epoch - 13ms/step\n",
            "Epoch 23/50\n",
            "4252/4252 - 57s - loss: 0.0409 - accuracy: 0.9880 - val_loss: 0.0207 - val_accuracy: 0.9988 - 57s/epoch - 14ms/step\n",
            "Epoch 24/50\n",
            "4252/4252 - 58s - loss: 0.0407 - accuracy: 0.9880 - val_loss: 0.0212 - val_accuracy: 0.9987 - 58s/epoch - 14ms/step\n",
            "Epoch 25/50\n",
            "4252/4252 - 60s - loss: 0.0402 - accuracy: 0.9880 - val_loss: 0.0180 - val_accuracy: 0.9989 - 60s/epoch - 14ms/step\n",
            "Epoch 26/50\n",
            "4252/4252 - 60s - loss: 0.0389 - accuracy: 0.9883 - val_loss: 0.0177 - val_accuracy: 0.9990 - 60s/epoch - 14ms/step\n",
            "Epoch 27/50\n",
            "4252/4252 - 54s - loss: 0.0389 - accuracy: 0.9883 - val_loss: 0.0188 - val_accuracy: 0.9991 - 54s/epoch - 13ms/step\n",
            "Epoch 28/50\n",
            "4252/4252 - 56s - loss: 0.0385 - accuracy: 0.9884 - val_loss: 0.0194 - val_accuracy: 0.9991 - 56s/epoch - 13ms/step\n",
            "Epoch 29/50\n",
            "4252/4252 - 57s - loss: 0.0386 - accuracy: 0.9884 - val_loss: 0.0192 - val_accuracy: 0.9991 - 57s/epoch - 13ms/step\n",
            "Epoch 30/50\n",
            "4252/4252 - 55s - loss: 0.0383 - accuracy: 0.9884 - val_loss: 0.0170 - val_accuracy: 0.9991 - 55s/epoch - 13ms/step\n",
            "Epoch 31/50\n",
            "4252/4252 - 54s - loss: 0.0382 - accuracy: 0.9885 - val_loss: 0.0198 - val_accuracy: 0.9991 - 54s/epoch - 13ms/step\n",
            "Epoch 32/50\n",
            "4252/4252 - 55s - loss: 0.0381 - accuracy: 0.9885 - val_loss: 0.0196 - val_accuracy: 0.9991 - 55s/epoch - 13ms/step\n",
            "Epoch 33/50\n",
            "4252/4252 - 56s - loss: 0.0384 - accuracy: 0.9884 - val_loss: 0.0186 - val_accuracy: 0.9988 - 56s/epoch - 13ms/step\n",
            "Epoch 34/50\n",
            "4252/4252 - 57s - loss: 0.0380 - accuracy: 0.9885 - val_loss: 0.0171 - val_accuracy: 0.9991 - 57s/epoch - 13ms/step\n",
            "Epoch 35/50\n",
            "4252/4252 - 57s - loss: 0.0380 - accuracy: 0.9885 - val_loss: 0.0200 - val_accuracy: 0.9991 - 57s/epoch - 13ms/step\n",
            "Epoch 36/50\n",
            "4252/4252 - 57s - loss: 0.0380 - accuracy: 0.9885 - val_loss: 0.0183 - val_accuracy: 0.9991 - 57s/epoch - 13ms/step\n",
            "Epoch 37/50\n",
            "4252/4252 - 60s - loss: 0.0378 - accuracy: 0.9885 - val_loss: 0.0164 - val_accuracy: 0.9991 - 60s/epoch - 14ms/step\n",
            "Epoch 38/50\n",
            "4252/4252 - 60s - loss: 0.1357 - accuracy: 0.9518 - val_loss: 0.0205 - val_accuracy: 0.9985 - 60s/epoch - 14ms/step\n",
            "Epoch 39/50\n",
            "4252/4252 - 64s - loss: 0.0414 - accuracy: 0.9883 - val_loss: 0.0161 - val_accuracy: 0.9990 - 64s/epoch - 15ms/step\n",
            "Epoch 40/50\n",
            "4252/4252 - 60s - loss: 0.0388 - accuracy: 0.9884 - val_loss: 0.0211 - val_accuracy: 0.9990 - 60s/epoch - 14ms/step\n",
            "Epoch 41/50\n",
            "4252/4252 - 59s - loss: 0.0385 - accuracy: 0.9884 - val_loss: 0.0212 - val_accuracy: 0.9990 - 59s/epoch - 14ms/step\n",
            "Epoch 42/50\n",
            "4252/4252 - 59s - loss: 0.0383 - accuracy: 0.9884 - val_loss: 0.0191 - val_accuracy: 0.9990 - 59s/epoch - 14ms/step\n",
            "Epoch 43/50\n",
            "4252/4252 - 57s - loss: 0.0380 - accuracy: 0.9885 - val_loss: 0.0187 - val_accuracy: 0.9991 - 57s/epoch - 13ms/step\n",
            "Epoch 44/50\n",
            "4252/4252 - 57s - loss: 0.0379 - accuracy: 0.9885 - val_loss: 0.0166 - val_accuracy: 0.9991 - 57s/epoch - 13ms/step\n",
            "Epoch 45/50\n",
            "4252/4252 - 64s - loss: 0.0376 - accuracy: 0.9885 - val_loss: 0.0166 - val_accuracy: 0.9991 - 64s/epoch - 15ms/step\n",
            "Epoch 46/50\n",
            "4252/4252 - 59s - loss: 0.0376 - accuracy: 0.9885 - val_loss: 0.0183 - val_accuracy: 0.9991 - 59s/epoch - 14ms/step\n",
            "Epoch 47/50\n",
            "4252/4252 - 58s - loss: 0.0375 - accuracy: 0.9886 - val_loss: 0.0143 - val_accuracy: 0.9992 - 58s/epoch - 14ms/step\n",
            "Epoch 48/50\n",
            "4252/4252 - 56s - loss: 0.0374 - accuracy: 0.9885 - val_loss: 0.0203 - val_accuracy: 0.9992 - 56s/epoch - 13ms/step\n",
            "Epoch 49/50\n",
            "4252/4252 - 60s - loss: 0.0375 - accuracy: 0.9886 - val_loss: 0.0206 - val_accuracy: 0.9990 - 60s/epoch - 14ms/step\n",
            "Epoch 50/50\n",
            "4252/4252 - 59s - loss: 0.0373 - accuracy: 0.9886 - val_loss: 0.0174 - val_accuracy: 0.9992 - 59s/epoch - 14ms/step\n"
          ]
        }
      ],
      "source": [
        "num_epochs = 50\n",
        "history = model.fit(training_padded, training_labels, epochs=num_epochs, validation_data=(testing_padded, testing_labels), verbose=2)"
      ]
    },
    {
      "cell_type": "code",
      "execution_count": 12,
      "metadata": {},
      "outputs": [],
      "source": [
        "model.save(\"twitter_LSTM_sgdm_model_001.h5\")"
      ]
    },
    {
      "cell_type": "code",
      "execution_count": 14,
      "metadata": {
        "colab": {
          "base_uri": "https://localhost:8080/"
        },
        "id": "4Y4yxU5-c45b",
        "outputId": "776a0393-81e1-4b17-dce4-387c8b77a9e0"
      },
      "outputs": [
        {
          "name": "stdout",
          "output_type": "stream",
          "text": [
            "[[0.99978054]]\n"
          ]
        }
      ],
      "source": [
        "sentence = [\"btw if the virus cases dont explode exponentially in a few days,  imma be real suspicious !\"]\n",
        "sequences = tokenizer.texts_to_sequences(sentence)\n",
        "padded = pad_sequences(sequences, maxlen=max_length, padding=padding_type, truncating=trunc_type)\n",
        "print(model.predict(padded))"
      ]
    },
    {
      "cell_type": "code",
      "execution_count": null,
      "metadata": {
        "id": "DwVxmqOqiUaw"
      },
      "outputs": [],
      "source": []
    }
  ],
  "metadata": {
    "accelerator": "TPU",
    "colab": {
      "name": "HackML Notebook.ipynb",
      "provenance": []
    },
    "kernelspec": {
      "display_name": "Python 3",
      "name": "python3"
    },
    "language_info": {
      "codemirror_mode": {
        "name": "ipython",
        "version": 3
      },
      "file_extension": ".py",
      "mimetype": "text/x-python",
      "name": "python",
      "nbconvert_exporter": "python",
      "pygments_lexer": "ipython3",
      "version": "3.10.2"
    }
  },
  "nbformat": 4,
  "nbformat_minor": 0
}
