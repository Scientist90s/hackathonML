{
  "cells": [
    {
      "cell_type": "code",
      "execution_count": 1,
      "metadata": {
        "id": "t786PZdgbTjk"
      },
      "outputs": [],
      "source": [
        "# Run this to ensure TensorFlow 2.x is used\n",
        "try:\n",
        "  # %tensorflow_version only exists in Colab.\n",
        "  %tensorflow_version 2.x\n",
        "except Exception:\n",
        "  pass"
      ]
    },
    {
      "cell_type": "code",
      "execution_count": 3,
      "metadata": {
        "id": "-_p7-YtjbVu6"
      },
      "outputs": [],
      "source": [
        "import json\n",
        "import tensorflow as tf\n",
        "import os\n",
        "\n",
        "from tensorflow.keras.preprocessing.text import Tokenizer\n",
        "from tensorflow.keras.preprocessing.sequence import pad_sequences"
      ]
    },
    {
      "cell_type": "code",
      "execution_count": 1,
      "metadata": {
        "id": "8ktrd5AtbaG1"
      },
      "outputs": [],
      "source": [
        "vocab_size = 10000\n",
        "embedding_dim = 16\n",
        "max_length = 30\n",
        "trunc_type='post'\n",
        "padding_type='post'\n",
        "oov_tok = \"<OOV>\"\n",
        "training_size = 136054\n",
        "file_path = os.path.join(os.path.dirname(os.getcwd()),\"data\\\\cleaned_data_en_4file.json\")\n",
        "model_save_path = os.path.join(os.path.dirname(os.getcwd()),\"models\\\\twitter_LSTM_model\")"
      ]
    },
    {
      "cell_type": "code",
      "execution_count": 4,
      "metadata": {
        "id": "xo5WZ-VUbhoc"
      },
      "outputs": [],
      "source": [
        "with open(file_path, 'r') as f:\n",
        "    datastore = json.load(f)\n",
        "\n",
        "sentences = []\n",
        "labels = []\n",
        "\n",
        "for item in datastore:\n",
        "    sentences.append(item['text'])\n",
        "    labels.append(item['viral'])"
      ]
    },
    {
      "cell_type": "code",
      "execution_count": 5,
      "metadata": {
        "colab": {
          "base_uri": "https://localhost:8080/"
        },
        "id": "8SRmDR11hHhL",
        "outputId": "e757b752-d401-4c5b-a11f-5cc6a7c184d5"
      },
      "outputs": [
        {
          "name": "stdout",
          "output_type": "stream",
          "text": [
            "sentences:  170068\n",
            "labels [0, 0, 1, 0, 0, 0, 0, 0, 0]\n"
          ]
        }
      ],
      "source": [
        "print(\"sentences: \", len(sentences))\n",
        "print(\"labels\", labels[1:10])"
      ]
    },
    {
      "cell_type": "code",
      "execution_count": 6,
      "metadata": {
        "id": "Ez105OZTbu3b"
      },
      "outputs": [],
      "source": [
        "training_sentences = sentences[0:training_size]\n",
        "testing_sentences = sentences[training_size:]\n",
        "training_labels = labels[0:training_size]\n",
        "testing_labels = labels[training_size:]"
      ]
    },
    {
      "cell_type": "code",
      "execution_count": 7,
      "metadata": {
        "id": "blE_46ANbxWi"
      },
      "outputs": [],
      "source": [
        "tokenizer = Tokenizer(num_words=vocab_size, oov_token=oov_tok)\n",
        "tokenizer.fit_on_texts(training_sentences)\n",
        "\n",
        "word_index = tokenizer.word_index\n",
        "\n",
        "training_sequences = tokenizer.texts_to_sequences(training_sentences)\n",
        "training_padded = pad_sequences(training_sequences, maxlen=max_length, padding=padding_type, truncating=trunc_type)\n",
        "\n",
        "testing_sequences = tokenizer.texts_to_sequences(testing_sentences)\n",
        "testing_padded = pad_sequences(testing_sequences, maxlen=max_length, padding=padding_type, truncating=trunc_type)"
      ]
    },
    {
      "cell_type": "code",
      "execution_count": 8,
      "metadata": {
        "id": "giwhZ9Vrbzul"
      },
      "outputs": [],
      "source": [
        "# Need this block to get it to work with TensorFlow 2.x\n",
        "import numpy as np\n",
        "training_padded = np.array(training_padded)\n",
        "training_labels = np.array(training_labels)\n",
        "testing_padded = np.array(testing_padded)\n",
        "testing_labels = np.array(testing_labels)"
      ]
    },
    {
      "cell_type": "code",
      "execution_count": 2,
      "metadata": {
        "id": "WpeDSqrrb3NF"
      },
      "outputs": [
        {
          "ename": "NameError",
          "evalue": "name 'tf' is not defined",
          "output_type": "error",
          "traceback": [
            "\u001b[1;31m---------------------------------------------------------------------------\u001b[0m",
            "\u001b[1;31mNameError\u001b[0m                                 Traceback (most recent call last)",
            "\u001b[1;32mc:\\Yash\\HackathonML\\scripts\\MLmodel.ipynb Cell 9'\u001b[0m in \u001b[0;36m<cell line: 1>\u001b[1;34m()\u001b[0m\n\u001b[1;32m----> <a href='vscode-notebook-cell:/c%3A/Yash/HackathonML/scripts/MLmodel.ipynb#ch0000008?line=0'>1</a>\u001b[0m model \u001b[39m=\u001b[39m tf\u001b[39m.\u001b[39mkeras\u001b[39m.\u001b[39mSequential([\n\u001b[0;32m      <a href='vscode-notebook-cell:/c%3A/Yash/HackathonML/scripts/MLmodel.ipynb#ch0000008?line=1'>2</a>\u001b[0m     tf\u001b[39m.\u001b[39mkeras\u001b[39m.\u001b[39mlayers\u001b[39m.\u001b[39mEmbedding(vocab_size, embedding_dim, input_length\u001b[39m=\u001b[39mmax_length),\n\u001b[0;32m      <a href='vscode-notebook-cell:/c%3A/Yash/HackathonML/scripts/MLmodel.ipynb#ch0000008?line=2'>3</a>\u001b[0m     \u001b[39m# tf.keras.layers.Conv1D(64, 5, activation='relu'),\u001b[39;00m\n\u001b[0;32m      <a href='vscode-notebook-cell:/c%3A/Yash/HackathonML/scripts/MLmodel.ipynb#ch0000008?line=3'>4</a>\u001b[0m     \u001b[39m# tf.keras.layers.GlobalAveragePooling1D(),\u001b[39;00m\n\u001b[0;32m      <a href='vscode-notebook-cell:/c%3A/Yash/HackathonML/scripts/MLmodel.ipynb#ch0000008?line=4'>5</a>\u001b[0m     \u001b[39m# tf.keras.layers.Dense(24, activation='relu'),\u001b[39;00m\n\u001b[0;32m      <a href='vscode-notebook-cell:/c%3A/Yash/HackathonML/scripts/MLmodel.ipynb#ch0000008?line=5'>6</a>\u001b[0m     \u001b[39m# tf.keras.layers.Dense(1, activation='sigmoid')\u001b[39;00m\n\u001b[0;32m      <a href='vscode-notebook-cell:/c%3A/Yash/HackathonML/scripts/MLmodel.ipynb#ch0000008?line=6'>7</a>\u001b[0m     tf\u001b[39m.\u001b[39mkeras\u001b[39m.\u001b[39mlayers\u001b[39m.\u001b[39mBidirectional(tf\u001b[39m.\u001b[39mkeras\u001b[39m.\u001b[39mlayers\u001b[39m.\u001b[39mLSTM(\u001b[39m64\u001b[39m, return_sequences\u001b[39m=\u001b[39m\u001b[39mTrue\u001b[39;00m)),\n\u001b[0;32m      <a href='vscode-notebook-cell:/c%3A/Yash/HackathonML/scripts/MLmodel.ipynb#ch0000008?line=7'>8</a>\u001b[0m     tf\u001b[39m.\u001b[39mkeras\u001b[39m.\u001b[39mlayers\u001b[39m.\u001b[39mBidirectional(tf\u001b[39m.\u001b[39mkeras\u001b[39m.\u001b[39mlayers\u001b[39m.\u001b[39mLSTM(\u001b[39m32\u001b[39m)),\n\u001b[0;32m      <a href='vscode-notebook-cell:/c%3A/Yash/HackathonML/scripts/MLmodel.ipynb#ch0000008?line=8'>9</a>\u001b[0m     tf\u001b[39m.\u001b[39mkeras\u001b[39m.\u001b[39mlayers\u001b[39m.\u001b[39mDense(\u001b[39m64\u001b[39m, activation\u001b[39m=\u001b[39m\u001b[39m'\u001b[39m\u001b[39mrelu\u001b[39m\u001b[39m'\u001b[39m),\n\u001b[0;32m     <a href='vscode-notebook-cell:/c%3A/Yash/HackathonML/scripts/MLmodel.ipynb#ch0000008?line=9'>10</a>\u001b[0m     tf\u001b[39m.\u001b[39mkeras\u001b[39m.\u001b[39mlayers\u001b[39m.\u001b[39mDense(\u001b[39m1\u001b[39m, activation\u001b[39m=\u001b[39m\u001b[39m'\u001b[39m\u001b[39msigmoid\u001b[39m\u001b[39m'\u001b[39m)\n\u001b[0;32m     <a href='vscode-notebook-cell:/c%3A/Yash/HackathonML/scripts/MLmodel.ipynb#ch0000008?line=10'>11</a>\u001b[0m ])\n\u001b[0;32m     <a href='vscode-notebook-cell:/c%3A/Yash/HackathonML/scripts/MLmodel.ipynb#ch0000008?line=11'>12</a>\u001b[0m sgdm_optimizer \u001b[39m=\u001b[39m tf\u001b[39m.\u001b[39mkeras\u001b[39m.\u001b[39moptimizers\u001b[39m.\u001b[39mSGD(learning_rate\u001b[39m=\u001b[39m\u001b[39m0.01\u001b[39m)\n\u001b[0;32m     <a href='vscode-notebook-cell:/c%3A/Yash/HackathonML/scripts/MLmodel.ipynb#ch0000008?line=12'>13</a>\u001b[0m model\u001b[39m.\u001b[39mcompile(loss\u001b[39m=\u001b[39m\u001b[39m'\u001b[39m\u001b[39mbinary_crossentropy\u001b[39m\u001b[39m'\u001b[39m,optimizer\u001b[39m=\u001b[39m\u001b[39m'\u001b[39m\u001b[39madam\u001b[39m\u001b[39m'\u001b[39m,metrics\u001b[39m=\u001b[39m[\u001b[39m'\u001b[39m\u001b[39maccuracy\u001b[39m\u001b[39m'\u001b[39m])\n",
            "\u001b[1;31mNameError\u001b[0m: name 'tf' is not defined"
          ]
        }
      ],
      "source": [
        "model = tf.keras.Sequential([\n",
        "    tf.keras.layers.Embedding(vocab_size, embedding_dim, input_length=max_length),\n",
        "    # tf.keras.layers.Conv1D(64, 5, activation='relu'),\n",
        "    # tf.keras.layers.GlobalAveragePooling1D(),\n",
        "    # tf.keras.layers.Dense(24, activation='relu'),\n",
        "    # tf.keras.layers.Dense(1, activation='sigmoid')\n",
        "    tf.keras.layers.Bidirectional(tf.keras.layers.LSTM(64, return_sequences=True)),\n",
        "    tf.keras.layers.Bidirectional(tf.keras.layers.LSTM(32)),\n",
        "    tf.keras.layers.Dense(64, activation='relu'),\n",
        "    tf.keras.layers.Dense(1, activation='sigmoid')\n",
        "])\n",
        "sgdm_optimizer = tf.keras.optimizers.SGD(learning_rate=0.01)\n",
        "model.compile(loss='binary_crossentropy',optimizer=sgdm_optimizer,metrics=['accuracy'])"
      ]
    },
    {
      "cell_type": "code",
      "execution_count": 15,
      "metadata": {
        "colab": {
          "base_uri": "https://localhost:8080/"
        },
        "id": "yEFp0XMSb7cp",
        "outputId": "533d0f2a-1623-4c51-aa9e-608701907cf3"
      },
      "outputs": [
        {
          "name": "stdout",
          "output_type": "stream",
          "text": [
            "Model: \"sequential_1\"\n",
            "_________________________________________________________________\n",
            " Layer (type)                Output Shape              Param #   \n",
            "=================================================================\n",
            " embedding_1 (Embedding)     (None, 30, 16)            160000    \n",
            "                                                                 \n",
            " bidirectional (Bidirectiona  (None, 30, 128)          41472     \n",
            " l)                                                              \n",
            "                                                                 \n",
            " bidirectional_1 (Bidirectio  (None, 64)               41216     \n",
            " nal)                                                            \n",
            "                                                                 \n",
            " dense_2 (Dense)             (None, 64)                4160      \n",
            "                                                                 \n",
            " dense_3 (Dense)             (None, 1)                 65        \n",
            "                                                                 \n",
            "=================================================================\n",
            "Total params: 246,913\n",
            "Trainable params: 246,913\n",
            "Non-trainable params: 0\n",
            "_________________________________________________________________\n"
          ]
        }
      ],
      "source": [
        "model.summary()"
      ]
    },
    {
      "cell_type": "code",
      "execution_count": 16,
      "metadata": {
        "colab": {
          "base_uri": "https://localhost:8080/"
        },
        "id": "YrXnjJudchXB",
        "outputId": "d52fafcf-4caa-42e6-9464-e1991bd63039"
      },
      "outputs": [
        {
          "name": "stdout",
          "output_type": "stream",
          "text": [
            "Epoch 1/20\n",
            "938/938 - 52s - loss: 0.0891 - accuracy: 0.9698 - val_loss: 0.0382 - val_accuracy: 0.9917 - 52s/epoch - 56ms/step\n",
            "Epoch 2/20\n",
            "938/938 - 57s - loss: 0.0480 - accuracy: 0.9832 - val_loss: 0.0373 - val_accuracy: 0.9918 - 57s/epoch - 61ms/step\n",
            "Epoch 3/20\n",
            "938/938 - 60s - loss: 0.0450 - accuracy: 0.9833 - val_loss: 0.0355 - val_accuracy: 0.9920 - 60s/epoch - 64ms/step\n",
            "Epoch 4/20\n",
            "938/938 - 60s - loss: 0.0422 - accuracy: 0.9839 - val_loss: 0.0349 - val_accuracy: 0.9915 - 60s/epoch - 64ms/step\n",
            "Epoch 5/20\n",
            "938/938 - 57s - loss: 0.0418 - accuracy: 0.9839 - val_loss: 0.0357 - val_accuracy: 0.9921 - 57s/epoch - 61ms/step\n",
            "Epoch 6/20\n",
            "938/938 - 62s - loss: 0.0408 - accuracy: 0.9843 - val_loss: 0.0380 - val_accuracy: 0.9910 - 62s/epoch - 66ms/step\n",
            "Epoch 7/20\n",
            "938/938 - 37s - loss: 0.0448 - accuracy: 0.9839 - val_loss: 0.0365 - val_accuracy: 0.9922 - 37s/epoch - 40ms/step\n",
            "Epoch 8/20\n",
            "938/938 - 33s - loss: 0.0411 - accuracy: 0.9841 - val_loss: 0.0375 - val_accuracy: 0.9918 - 33s/epoch - 36ms/step\n",
            "Epoch 9/20\n",
            "938/938 - 36s - loss: 0.0405 - accuracy: 0.9844 - val_loss: 0.0382 - val_accuracy: 0.9920 - 36s/epoch - 38ms/step\n",
            "Epoch 10/20\n",
            "938/938 - 34s - loss: 0.0403 - accuracy: 0.9844 - val_loss: 0.0409 - val_accuracy: 0.9920 - 34s/epoch - 36ms/step\n",
            "Epoch 11/20\n",
            "938/938 - 32s - loss: 0.0404 - accuracy: 0.9844 - val_loss: 0.0371 - val_accuracy: 0.9920 - 32s/epoch - 34ms/step\n",
            "Epoch 12/20\n",
            "938/938 - 31s - loss: 0.0405 - accuracy: 0.9844 - val_loss: 0.0385 - val_accuracy: 0.9920 - 31s/epoch - 33ms/step\n",
            "Epoch 13/20\n",
            "938/938 - 30s - loss: 0.0412 - accuracy: 0.9842 - val_loss: 0.0393 - val_accuracy: 0.9915 - 30s/epoch - 32ms/step\n",
            "Epoch 14/20\n",
            "938/938 - 29s - loss: 0.0409 - accuracy: 0.9843 - val_loss: 0.0388 - val_accuracy: 0.9913 - 29s/epoch - 31ms/step\n",
            "Epoch 15/20\n",
            "938/938 - 30s - loss: 0.0408 - accuracy: 0.9842 - val_loss: 0.0374 - val_accuracy: 0.9921 - 30s/epoch - 32ms/step\n",
            "Epoch 16/20\n",
            "938/938 - 30s - loss: 0.0406 - accuracy: 0.9842 - val_loss: 0.0393 - val_accuracy: 0.9921 - 30s/epoch - 32ms/step\n",
            "Epoch 17/20\n",
            "938/938 - 30s - loss: 0.0403 - accuracy: 0.9844 - val_loss: 0.0386 - val_accuracy: 0.9917 - 30s/epoch - 32ms/step\n",
            "Epoch 18/20\n",
            "938/938 - 31s - loss: 0.0402 - accuracy: 0.9844 - val_loss: 0.0412 - val_accuracy: 0.9918 - 31s/epoch - 33ms/step\n",
            "Epoch 19/20\n",
            "938/938 - 30s - loss: 0.0403 - accuracy: 0.9844 - val_loss: 0.0400 - val_accuracy: 0.9918 - 30s/epoch - 32ms/step\n",
            "Epoch 20/20\n",
            "938/938 - 30s - loss: 0.0403 - accuracy: 0.9844 - val_loss: 0.0410 - val_accuracy: 0.9918 - 30s/epoch - 32ms/step\n"
          ]
        }
      ],
      "source": [
        "num_epochs = 20\n",
        "history = model.fit(training_padded, training_labels, epochs=num_epochs, validation_data=(testing_padded, testing_labels), verbose=2)"
      ]
    },
    {
      "cell_type": "code",
      "execution_count": 17,
      "metadata": {},
      "outputs": [
        {
          "name": "stderr",
          "output_type": "stream",
          "text": [
            "WARNING:absl:Found untraced functions such as lstm_cell_1_layer_call_fn, lstm_cell_1_layer_call_and_return_conditional_losses, lstm_cell_2_layer_call_fn, lstm_cell_2_layer_call_and_return_conditional_losses, lstm_cell_4_layer_call_fn while saving (showing 5 of 8). These functions will not be directly callable after loading.\n"
          ]
        },
        {
          "name": "stdout",
          "output_type": "stream",
          "text": [
            "INFO:tensorflow:Assets written to: twitter_LSTM_model\\assets\n"
          ]
        },
        {
          "name": "stderr",
          "output_type": "stream",
          "text": [
            "INFO:tensorflow:Assets written to: twitter_LSTM_model\\assets\n",
            "WARNING:absl:<keras.layers.recurrent.LSTMCell object at 0x00000165863A9FF0> has the same name 'LSTMCell' as a built-in Keras object. Consider renaming <class 'keras.layers.recurrent.LSTMCell'> to avoid naming conflicts when loading with `tf.keras.models.load_model`. If renaming is not possible, pass the object in the `custom_objects` parameter of the load function.\n",
            "WARNING:absl:<keras.layers.recurrent.LSTMCell object at 0x00000165863AA230> has the same name 'LSTMCell' as a built-in Keras object. Consider renaming <class 'keras.layers.recurrent.LSTMCell'> to avoid naming conflicts when loading with `tf.keras.models.load_model`. If renaming is not possible, pass the object in the `custom_objects` parameter of the load function.\n",
            "WARNING:absl:<keras.layers.recurrent.LSTMCell object at 0x00000165863ABEB0> has the same name 'LSTMCell' as a built-in Keras object. Consider renaming <class 'keras.layers.recurrent.LSTMCell'> to avoid naming conflicts when loading with `tf.keras.models.load_model`. If renaming is not possible, pass the object in the `custom_objects` parameter of the load function.\n",
            "WARNING:absl:<keras.layers.recurrent.LSTMCell object at 0x00000165863B8460> has the same name 'LSTMCell' as a built-in Keras object. Consider renaming <class 'keras.layers.recurrent.LSTMCell'> to avoid naming conflicts when loading with `tf.keras.models.load_model`. If renaming is not possible, pass the object in the `custom_objects` parameter of the load function.\n"
          ]
        }
      ],
      "source": [
        "model.save(\"twitter_LSTM_model\")"
      ]
    },
    {
      "cell_type": "code",
      "execution_count": 20,
      "metadata": {
        "colab": {
          "base_uri": "https://localhost:8080/"
        },
        "id": "4Y4yxU5-c45b",
        "outputId": "776a0393-81e1-4b17-dce4-387c8b77a9e0"
      },
      "outputs": [
        {
          "name": "stdout",
          "output_type": "stream",
          "text": [
            "[[3.025972e-07]]\n"
          ]
        }
      ],
      "source": [
        "sentence = [\"If the Cleveland Cavaliers win the 2018 NBA finals I’ll buy everyone who retweet’s this a jersey...\"]\n",
        "sequences = tokenizer.texts_to_sequences(sentence)\n",
        "padded = pad_sequences(sequences, maxlen=max_length, padding=padding_type, truncating=trunc_type)\n",
        "print(model.predict(padded))"
      ]
    },
    {
      "cell_type": "code",
      "execution_count": null,
      "metadata": {
        "id": "DwVxmqOqiUaw"
      },
      "outputs": [],
      "source": []
    }
  ],
  "metadata": {
    "accelerator": "TPU",
    "colab": {
      "name": "HackML Notebook.ipynb",
      "provenance": []
    },
    "kernelspec": {
      "display_name": "Python 3",
      "name": "python3"
    },
    "language_info": {
      "codemirror_mode": {
        "name": "ipython",
        "version": 3
      },
      "file_extension": ".py",
      "mimetype": "text/x-python",
      "name": "python",
      "nbconvert_exporter": "python",
      "pygments_lexer": "ipython3",
      "version": "3.10.2"
    }
  },
  "nbformat": 4,
  "nbformat_minor": 0
}
